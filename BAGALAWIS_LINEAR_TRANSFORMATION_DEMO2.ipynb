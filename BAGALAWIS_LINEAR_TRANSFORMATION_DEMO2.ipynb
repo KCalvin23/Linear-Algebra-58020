{
  "nbformat": 4,
  "nbformat_minor": 0,
  "metadata": {
    "colab": {
      "name": "BAGALAWIS_LINEAR_TRANSFORMATION_DEMO2.ipynb",
      "provenance": [],
      "authorship_tag": "ABX9TyPTn/r2LZRoE70il45ZQ1AU",
      "include_colab_link": true
    },
    "kernelspec": {
      "name": "python3",
      "display_name": "Python 3"
    },
    "language_info": {
      "name": "python"
    }
  },
  "cells": [
    {
      "cell_type": "markdown",
      "metadata": {
        "id": "view-in-github",
        "colab_type": "text"
      },
      "source": [
        "<a href=\"https://colab.research.google.com/github/KCalvin23/Linear-Algebra-58020/blob/main/BAGALAWIS_LINEAR_TRANSFORMATION_DEMO2.ipynb\" target=\"_parent\"><img src=\"https://colab.research.google.com/assets/colab-badge.svg\" alt=\"Open In Colab\"/></a>"
      ]
    },
    {
      "cell_type": "code",
      "metadata": {
        "colab": {
          "base_uri": "https://localhost:8080/"
        },
        "id": "43Itv-to0eK0",
        "outputId": "5ddeeb3b-6f5e-46b7-cd90-35407b6a49b9"
      },
      "source": [
        "import numpy as np\n",
        "A = np.array([[4,1,8],[10,26,26],[8,26,21]])\n",
        "print (A)\n",
        "inv_A=np.linalg.inv(A)\n",
        "print(A)\n",
        "\n",
        "B = np.array ([[44,],[128],[214]])\n",
        "print(B)\n",
        "\n",
        "#AA^1z = .A^-1\n",
        "X = np.dot(inv_A,B)\n",
        "print(X)"
      ],
      "execution_count": 1,
      "outputs": [
        {
          "output_type": "stream",
          "name": "stdout",
          "text": [
            "[[ 4  1  8]\n",
            " [10 26 26]\n",
            " [ 8 26 21]]\n",
            "[[ 4  1  8]\n",
            " [10 26 26]\n",
            " [ 8 26 21]]\n",
            "[[ 44]\n",
            " [128]\n",
            " [214]]\n",
            "[[195.58490566]\n",
            " [ 25.13207547]\n",
            " [-95.43396226]]\n"
          ]
        }
      ]
    }
  ]
}