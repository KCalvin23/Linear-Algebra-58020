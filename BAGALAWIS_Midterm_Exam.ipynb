{
  "nbformat": 4,
  "nbformat_minor": 0,
  "metadata": {
    "colab": {
      "name": "BAGALAWIS_Midterm Exam.ipynb",
      "provenance": [],
      "authorship_tag": "ABX9TyMiSt2VoeD9Bijvdj4GBNeV",
      "include_colab_link": true
    },
    "kernelspec": {
      "name": "python3",
      "display_name": "Python 3"
    },
    "language_info": {
      "name": "python"
    }
  },
  "cells": [
    {
      "cell_type": "markdown",
      "metadata": {
        "id": "view-in-github",
        "colab_type": "text"
      },
      "source": [
        "<a href=\"https://colab.research.google.com/github/KCalvin23/Linear-Algebra-58020/blob/main/BAGALAWIS_Midterm_Exam.ipynb\" target=\"_parent\"><img src=\"https://colab.research.google.com/assets/colab-badge.svg\" alt=\"Open In Colab\"/></a>"
      ]
    },
    {
      "cell_type": "markdown",
      "metadata": {
        "id": "OsuUNVwB8LNI"
      },
      "source": [
        "# Midterm Exam\n"
      ]
    },
    {
      "cell_type": "code",
      "metadata": {
        "id": "XL6YBC_B8JRl"
      },
      "source": [
        "import numpy as np"
      ],
      "execution_count": 1,
      "outputs": []
    },
    {
      "cell_type": "code",
      "metadata": {
        "colab": {
          "base_uri": "https://localhost:8080/"
        },
        "id": "H_plaOkDBLZp",
        "outputId": "f7fc6fd6-8290-4a61-c0bb-8964cfa1dcb3"
      },
      "source": [
        "#Question 1. Create a Python code that displays a square matrix whose length is 5\n",
        "A = np.array([[2,4,6,8,10],[12,14,16,18,20],[22,24,26,28,30],[32,34,36,38,40],[42,44,46,48,50,]])\n",
        "print(A)"
      ],
      "execution_count": 12,
      "outputs": [
        {
          "output_type": "stream",
          "name": "stdout",
          "text": [
            "[[ 2  4  6  8 10]\n",
            " [12 14 16 18 20]\n",
            " [22 24 26 28 30]\n",
            " [32 34 36 38 40]\n",
            " [42 44 46 48 50]]\n"
          ]
        }
      ]
    },
    {
      "cell_type": "code",
      "metadata": {
        "colab": {
          "base_uri": "https://localhost:8080/"
        },
        "id": "JbtWGZc1BLVi",
        "outputId": "dfb11ca8-0e62-430f-825d-50f6b9f6327c"
      },
      "source": [
        "#Question 2. Create a Python code that displays a square matrix whose elements below the principal diagonal are zero\n",
        "B= np.array([[3,6,9],[0,12,15],[0,0,18]])\n",
        "print(C)"
      ],
      "execution_count": 13,
      "outputs": [
        {
          "output_type": "stream",
          "name": "stdout",
          "text": [
            "[[ 3  6  9]\n",
            " [ 0 12 15]\n",
            " [ 0  0 18]]\n"
          ]
        }
      ]
    },
    {
      "cell_type": "code",
      "metadata": {
        "colab": {
          "base_uri": "https://localhost:8080/"
        },
        "id": "LKCnGVWl_NRx",
        "outputId": "9ed95905-0617-4fde-d6aa-389bea1e69b2"
      },
      "source": [
        "#Question 3. Create a Python code that displays a square matrix which is symmetrical \n",
        "K = np.array([[1,2,3],[4,5,6],[7,8,9]])\n",
        "print(K)\n",
        "print(\"\\n\")\n",
        "print(np.transpose(K))"
      ],
      "execution_count": 11,
      "outputs": [
        {
          "output_type": "stream",
          "name": "stdout",
          "text": [
            "[[1 2 3]\n",
            " [4 5 6]\n",
            " [7 8 9]]\n",
            "\n",
            "\n",
            "[[1 4 7]\n",
            " [2 5 8]\n",
            " [3 6 9]]\n"
          ]
        }
      ]
    },
    {
      "cell_type": "code",
      "metadata": {
        "colab": {
          "base_uri": "https://localhost:8080/"
        },
        "id": "J3oGcAMHCgHi",
        "outputId": "1428e18e-e2e5-4add-e67e-680f8487b81c"
      },
      "source": [
        "#Question 4. What is the inverse of matrix C? Show your solution by python coding. \n",
        "C = np.array([[1,2,3],[2,3,3],[3,4,-2]]) \n",
        "print(C)\n",
        "\n",
        "inv_C = np.linalg.inv(C)\n",
        "print(inv_C)"
      ],
      "execution_count": 17,
      "outputs": [
        {
          "output_type": "stream",
          "name": "stdout",
          "text": [
            "[[ 1  2  3]\n",
            " [ 2  3  3]\n",
            " [ 3  4 -2]]\n",
            "[[-3.6  3.2 -0.6]\n",
            " [ 2.6 -2.2  0.6]\n",
            " [-0.2  0.4 -0.2]]\n"
          ]
        }
      ]
    },
    {
      "cell_type": "code",
      "metadata": {
        "colab": {
          "base_uri": "https://localhost:8080/"
        },
        "id": "BfuojVLDB0kw",
        "outputId": "27b5d2b1-0c38-4094-95b9-0046bfe4d08b"
      },
      "source": [
        "#Question 5. What is the determinant of the given matrix in Question 4? Show your solution by python coding.\n",
        "C = np.array([[1,2,3],[2,3,3],[3,4,-2]]) \n",
        "print(C)\n",
        "\n",
        "print(np.linalg.det(C))\n",
        "print(round(np.linalg.det(C)))"
      ],
      "execution_count": 16,
      "outputs": [
        {
          "output_type": "stream",
          "name": "stdout",
          "text": [
            "[[ 1  2  3]\n",
            " [ 2  3  3]\n",
            " [ 3  4 -2]]\n",
            "5.000000000000001\n",
            "5\n"
          ]
        }
      ]
    },
    {
      "cell_type": "code",
      "metadata": {
        "colab": {
          "base_uri": "https://localhost:8080/"
        },
        "id": "G6SC4ReF9mBe",
        "outputId": "dceb8dd1-da38-4321-e6e5-6d6e470d3e2c"
      },
      "source": [
        "#Question 6. Find the roots of the linear equations by showing its python codes\n",
        "A = np.array([[5,4,1],[10,9,4],[10,13,15]])\n",
        "print(A)\n",
        "print(\"\\n\")\n",
        "inv_A = np.linalg.inv(A)\n",
        "print(inv_A)\n",
        "print(\"\\n\")\n",
        "B = np.array([[3.4],[8.8],[19.2]])\n",
        "print(B)\n",
        "print(\"\\n\")\n",
        "C = np.dot(inv_A,B)\n",
        "print(C)"
      ],
      "execution_count": 23,
      "outputs": [
        {
          "output_type": "stream",
          "name": "stdout",
          "text": [
            "[[ 5  4  1]\n",
            " [10  9  4]\n",
            " [10 13 15]]\n",
            "\n",
            "\n",
            "[[ 5.53333333 -3.13333333  0.46666667]\n",
            " [-7.33333333  4.33333333 -0.66666667]\n",
            " [ 2.66666667 -1.66666667  0.33333333]]\n",
            "\n",
            "\n",
            "[[ 3.4]\n",
            " [ 8.8]\n",
            " [19.2]]\n",
            "\n",
            "\n",
            "[[0.2]\n",
            " [0.4]\n",
            " [0.8]]\n"
          ]
        }
      ]
    }
  ]
}