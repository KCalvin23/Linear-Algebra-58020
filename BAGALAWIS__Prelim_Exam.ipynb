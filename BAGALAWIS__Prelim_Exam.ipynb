{
  "nbformat": 4,
  "nbformat_minor": 0,
  "metadata": {
    "colab": {
      "name": "BAGALAWIS_ Prelim Exam.ipynb",
      "provenance": [],
      "authorship_tag": "ABX9TyOLy0IcDwXbvcAALuyQC/PB",
      "include_colab_link": true
    },
    "kernelspec": {
      "name": "python3",
      "display_name": "Python 3"
    },
    "language_info": {
      "name": "python"
    }
  },
  "cells": [
    {
      "cell_type": "markdown",
      "metadata": {
        "id": "view-in-github",
        "colab_type": "text"
      },
      "source": [
        "<a href=\"https://colab.research.google.com/github/KCalvin23/Linear-Algebra-58020/blob/main/BAGALAWIS__Prelim_Exam.ipynb\" target=\"_parent\"><img src=\"https://colab.research.google.com/assets/colab-badge.svg\" alt=\"Open In Colab\"/></a>"
      ]
    },
    {
      "cell_type": "markdown",
      "metadata": {
        "id": "PmEgtVB1h3OP"
      },
      "source": [
        "## **PRELIM EXAM**\n"
      ]
    },
    {
      "cell_type": "code",
      "metadata": {
        "id": "6IMmRrDDicVL"
      },
      "source": [
        "import numpy as np"
      ],
      "execution_count": 2,
      "outputs": []
    },
    {
      "cell_type": "markdown",
      "metadata": {
        "id": "hDLPmdjRpvgv"
      },
      "source": [
        "## GOOD AFTERNOON MA'AM, I MADE TWO EXAMPLES FOR QUESTION #1 AND QUESTION #2."
      ]
    },
    {
      "cell_type": "code",
      "metadata": {
        "colab": {
          "base_uri": "https://localhost:8080/"
        },
        "id": "N25MTBXnhxlV",
        "outputId": "8dd4be03-da58-4c66-8977-58018f7da368"
      },
      "source": [
        "#QUESTION 1\n",
        "C = np.array ([[1,2,3,4], [5,1,6,7], [8,9,1,0], [2,3,4,1]])\n",
        "print(C)"
      ],
      "execution_count": 10,
      "outputs": [
        {
          "output_type": "stream",
          "name": "stdout",
          "text": [
            "[[1 2 3 4]\n",
            " [5 1 6 7]\n",
            " [8 9 1 0]\n",
            " [2 3 4 1]]\n"
          ]
        }
      ]
    },
    {
      "cell_type": "code",
      "metadata": {
        "colab": {
          "base_uri": "https://localhost:8080/"
        },
        "id": "j1lEaLHLozpN",
        "outputId": "464f2dab-77df-4154-9c60-567b5b52ab46"
      },
      "source": [
        "#QUESTION 1.1 (for question 2.1)\n",
        "C = np.array ([1,1,1,1])\n",
        "print(np.diag(C))"
      ],
      "execution_count": 14,
      "outputs": [
        {
          "output_type": "stream",
          "name": "stdout",
          "text": [
            "[[1 0 0 0]\n",
            " [0 1 0 0]\n",
            " [0 0 1 0]\n",
            " [0 0 0 1]]\n"
          ]
        }
      ]
    },
    {
      "cell_type": "code",
      "metadata": {
        "colab": {
          "base_uri": "https://localhost:8080/"
        },
        "id": "ks1igGvljFoB",
        "outputId": "3903214d-7c2b-4327-b682-69005655fe8e"
      },
      "source": [
        "#QUESTION 2\n",
        "C = np.array ([[1,2,3,4], [5,1,6,7], [8,9,1,0], [2,3,4,1]])\n",
        "print(C*C)"
      ],
      "execution_count": 12,
      "outputs": [
        {
          "output_type": "stream",
          "name": "stdout",
          "text": [
            "[[ 1  4  9 16]\n",
            " [25  1 36 49]\n",
            " [64 81  1  0]\n",
            " [ 4  9 16  1]]\n"
          ]
        }
      ]
    },
    {
      "cell_type": "code",
      "metadata": {
        "colab": {
          "base_uri": "https://localhost:8080/"
        },
        "id": "uF0Lgf9DpNii",
        "outputId": "0f8d7098-52f9-4ec7-e2b6-e733b63f9d3b"
      },
      "source": [
        "#QUESTION 2.1 (in relation with question 1.1)\n",
        "C = np.array ([1,1,1,1])\n",
        "C = (np.diag(C))\n",
        "print(np.multiply(C,C))\n"
      ],
      "execution_count": 16,
      "outputs": [
        {
          "output_type": "stream",
          "name": "stdout",
          "text": [
            "[[1 0 0 0]\n",
            " [0 1 0 0]\n",
            " [0 0 1 0]\n",
            " [0 0 0 1]]\n"
          ]
        }
      ]
    },
    {
      "cell_type": "code",
      "metadata": {
        "colab": {
          "base_uri": "https://localhost:8080/"
        },
        "id": "vYhGoJrDkZty",
        "outputId": "79582273-c63a-4c9d-a9f5-fdd61c2ced0c"
      },
      "source": [
        "#QUESTION 3\n",
        "\n",
        "A = np.array([2,7,4])\n",
        "B = np.array([3,9,8])\n",
        "print(np.cross(A,B))"
      ],
      "execution_count": 17,
      "outputs": [
        {
          "output_type": "stream",
          "name": "stdout",
          "text": [
            "[20 -4 -3]\n"
          ]
        }
      ]
    }
  ]
}