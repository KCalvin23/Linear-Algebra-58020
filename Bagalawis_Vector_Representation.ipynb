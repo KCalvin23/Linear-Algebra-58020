{
  "nbformat": 4,
  "nbformat_minor": 0,
  "metadata": {
    "colab": {
      "name": "Bagalawis_Vector Representation",
      "provenance": [],
      "authorship_tag": "ABX9TyNd3EXRBb0p/kmiQaP1wwmW",
      "include_colab_link": true
    },
    "kernelspec": {
      "name": "python3",
      "display_name": "Python 3"
    },
    "language_info": {
      "name": "python"
    }
  },
  "cells": [
    {
      "cell_type": "markdown",
      "metadata": {
        "id": "view-in-github",
        "colab_type": "text"
      },
      "source": [
        "<a href=\"https://colab.research.google.com/github/KCalvin23/Linear-Algebra-58020/blob/main/Bagalawis_Vector_Representation.ipynb\" target=\"_parent\"><img src=\"https://colab.research.google.com/assets/colab-badge.svg\" alt=\"Open In Colab\"/></a>"
      ]
    },
    {
      "cell_type": "markdown",
      "metadata": {
        "id": "3gz_Im5kDYvu"
      },
      "source": [
        "#Matrix and its Operations\n"
      ]
    },
    {
      "cell_type": "code",
      "metadata": {
        "colab": {
          "base_uri": "https://localhost:8080/"
        },
        "id": "Xg4bVFkADBNr",
        "outputId": "e77fd202-57b7-4f1c-b95e-46a79967c284"
      },
      "source": [
        "import numpy as np\n",
        "#Create a 1x3 array\n",
        "a = np.array([1,2,3])\n",
        "print(a)"
      ],
      "execution_count": 1,
      "outputs": [
        {
          "output_type": "stream",
          "name": "stdout",
          "text": [
            "[1 2 3]\n"
          ]
        }
      ]
    },
    {
      "cell_type": "code",
      "metadata": {
        "colab": {
          "base_uri": "https://localhost:8080/"
        },
        "id": "sbhPMWmgDbl4",
        "outputId": "ef66a9df-d9a7-499c-94d4-90924e03d39d"
      },
      "source": [
        "#Create a 2 x 3 matrix\n",
        "b = np.array ([[1,2,3], [4,5,6]])\n",
        "print(b)"
      ],
      "execution_count": 2,
      "outputs": [
        {
          "output_type": "stream",
          "name": "stdout",
          "text": [
            "[[1 2 3]\n",
            " [4 5 6]]\n"
          ]
        }
      ]
    },
    {
      "cell_type": "code",
      "metadata": {
        "colab": {
          "base_uri": "https://localhost:8080/"
        },
        "id": "0ZYDD_qBDc6d",
        "outputId": "a1d428e1-9af7-44ee-8b16-a1de1ca83fd4"
      },
      "source": [
        "#Create a 3 x 3 matrix\n",
        "c = np.array ([[1,2,3], [4,5,6], [7,8,9]])\n",
        "print(c)"
      ],
      "execution_count": 3,
      "outputs": [
        {
          "output_type": "stream",
          "name": "stdout",
          "text": [
            "[[1 2 3]\n",
            " [4 5 6]\n",
            " [7 8 9]]\n"
          ]
        }
      ]
    },
    {
      "cell_type": "code",
      "metadata": {
        "colab": {
          "base_uri": "https://localhost:8080/"
        },
        "id": "IX9ONI7eDerY",
        "outputId": "d994939f-2bd2-4979-d0be-9ca8b830f93d"
      },
      "source": [
        "#Create a constant array with all values are 6\n",
        "d = np.full((4,4),6)\n",
        "print(d)"
      ],
      "execution_count": 4,
      "outputs": [
        {
          "output_type": "stream",
          "name": "stdout",
          "text": [
            "[[6 6 6 6]\n",
            " [6 6 6 6]\n",
            " [6 6 6 6]\n",
            " [6 6 6 6]]\n"
          ]
        }
      ]
    },
    {
      "cell_type": "code",
      "metadata": {
        "colab": {
          "base_uri": "https://localhost:8080/"
        },
        "id": "nm0glk8GDlWt",
        "outputId": "c07d60be-e42e-47d7-8fcf-c4146f7f7d3c"
      },
      "source": [
        "#Create a diagonal matrix \n",
        "e = np.array([[1,2,3], [4,5,6], [7,8,9]])\n",
        "print(e)\n",
        "e = np.diagonal([[1,2,3], [4,5,6], [7,8,9]])\n",
        "print(e)"
      ],
      "execution_count": 7,
      "outputs": [
        {
          "output_type": "stream",
          "name": "stdout",
          "text": [
            "[[1 2 3]\n",
            " [4 5 6]\n",
            " [7 8 9]]\n",
            "[1 5 9]\n"
          ]
        }
      ]
    },
    {
      "cell_type": "code",
      "metadata": {
        "colab": {
          "base_uri": "https://localhost:8080/"
        },
        "id": "KGMo5imhEdNq",
        "outputId": "4d71f2f1-5988-42c3-8e4a-3585962e88e2"
      },
      "source": [
        "#Create an identity matrix \n",
        "f = np.eye(4)\n",
        "print(f)"
      ],
      "execution_count": 8,
      "outputs": [
        {
          "output_type": "stream",
          "name": "stdout",
          "text": [
            "[[1. 0. 0. 0.]\n",
            " [0. 1. 0. 0.]\n",
            " [0. 0. 1. 0.]\n",
            " [0. 0. 0. 1.]]\n"
          ]
        }
      ]
    },
    {
      "cell_type": "code",
      "metadata": {
        "colab": {
          "base_uri": "https://localhost:8080/"
        },
        "id": "knNXfB-uE0eP",
        "outputId": "e07fb8ac-35fd-4dce-caf2-333ea3f13ba1"
      },
      "source": [
        "#Create a zero matrix\n",
        "g = np.zeros((6,5))\n",
        "print(g)"
      ],
      "execution_count": 11,
      "outputs": [
        {
          "output_type": "stream",
          "name": "stdout",
          "text": [
            "[[0. 0. 0. 0. 0.]\n",
            " [0. 0. 0. 0. 0.]\n",
            " [0. 0. 0. 0. 0.]\n",
            " [0. 0. 0. 0. 0.]\n",
            " [0. 0. 0. 0. 0.]\n",
            " [0. 0. 0. 0. 0.]]\n"
          ]
        }
      ]
    },
    {
      "cell_type": "code",
      "metadata": {
        "colab": {
          "base_uri": "https://localhost:8080/"
        },
        "id": "nJ0TzpDVFQgP",
        "outputId": "4d01abee-ae11-4b85-b661-a618ac85c327"
      },
      "source": [
        "#Create an empty matrix\n",
        "h = np.empty((0,5))\n",
        "print(h)"
      ],
      "execution_count": 13,
      "outputs": [
        {
          "output_type": "stream",
          "name": "stdout",
          "text": [
            "[]\n"
          ]
        }
      ]
    },
    {
      "cell_type": "code",
      "metadata": {
        "colab": {
          "base_uri": "https://localhost:8080/"
        },
        "id": "n4S511msFQaH",
        "outputId": "bc6e1b1b-7d12-4a78-bb64-78432f7df0c6"
      },
      "source": [
        "#Addition of Matrices\n",
        "i = np.array([[1,2,3], [4,5,6]])\n",
        "j = np.zeros((2,3))\n",
        "print(i+j)"
      ],
      "execution_count": 16,
      "outputs": [
        {
          "output_type": "stream",
          "name": "stdout",
          "text": [
            "[[1. 2. 3.]\n",
            " [4. 5. 6.]]\n"
          ]
        }
      ]
    },
    {
      "cell_type": "code",
      "metadata": {
        "colab": {
          "base_uri": "https://localhost:8080/"
        },
        "id": "MT_NK2pxGN03",
        "outputId": "a3b679b9-82a4-4532-e0cc-4a84d364d951"
      },
      "source": [
        "#Subtraction of Matrices \n",
        "i = np.array([[1,2,3], [4,5,6]])\n",
        "j = np.array([[-1,2,4], [7,4,2]])\n",
        "print(i-j)"
      ],
      "execution_count": 18,
      "outputs": [
        {
          "output_type": "stream",
          "name": "stdout",
          "text": [
            "[[ 2  0 -1]\n",
            " [-3  1  4]]\n"
          ]
        }
      ]
    }
  ]
}