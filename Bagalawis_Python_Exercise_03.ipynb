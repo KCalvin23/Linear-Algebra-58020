{
  "nbformat": 4,
  "nbformat_minor": 0,
  "metadata": {
    "colab": {
      "name": "Bagalawis_Python Exercise 03.ipynb",
      "provenance": [],
      "authorship_tag": "ABX9TyMDdJnKHieNe0lStu3OkPsL",
      "include_colab_link": true
    },
    "kernelspec": {
      "name": "python3",
      "display_name": "Python 3"
    },
    "language_info": {
      "name": "python"
    }
  },
  "cells": [
    {
      "cell_type": "markdown",
      "metadata": {
        "id": "view-in-github",
        "colab_type": "text"
      },
      "source": [
        "<a href=\"https://colab.research.google.com/github/KCalvin23/Linear-Algebra-58020/blob/main/Bagalawis_Python_Exercise_03.ipynb\" target=\"_parent\"><img src=\"https://colab.research.google.com/assets/colab-badge.svg\" alt=\"Open In Colab\"/></a>"
      ]
    },
    {
      "cell_type": "markdown",
      "metadata": {
        "id": "LF81HfmXcMVU"
      },
      "source": [
        "## **Python program for Inverse and Transpose of Matrices**"
      ]
    },
    {
      "cell_type": "code",
      "metadata": {
        "id": "WIoYobvfcEGq"
      },
      "source": [
        "import numpy as np"
      ],
      "execution_count": 21,
      "outputs": []
    },
    {
      "cell_type": "code",
      "metadata": {
        "colab": {
          "base_uri": "https://localhost:8080/"
        },
        "id": "YXnWZd-DcRWQ",
        "outputId": "3d0f2c6f-93f4-4e13-e5be-427d8098b247"
      },
      "source": [
        "#3x3 array\n",
        "A = np.array ([[1,7,7], [2,-6,8], [3,9,4]])\n",
        "print(A)"
      ],
      "execution_count": 23,
      "outputs": [
        {
          "output_type": "stream",
          "name": "stdout",
          "text": [
            "[[ 1  7  7]\n",
            " [ 2 -6  8]\n",
            " [ 3  9  4]]\n"
          ]
        }
      ]
    },
    {
      "cell_type": "code",
      "metadata": {
        "colab": {
          "base_uri": "https://localhost:8080/"
        },
        "id": "nZKE1wRGdB1Y",
        "outputId": "12be75bd-db1e-4347-eaaa-bdc6f4e528aa"
      },
      "source": [
        "#Inverse Matrix\n",
        "A = np.array ([[1,7,7], [2,-6,8], [3,9,4]])\n",
        "A_inverse = (np.linalg.inv(A))\n",
        "print(A_inverse)"
      ],
      "execution_count": 24,
      "outputs": [
        {
          "output_type": "stream",
          "name": "stdout",
          "text": [
            "[[-0.35820896  0.13059701  0.36567164]\n",
            " [ 0.05970149 -0.06343284  0.02238806]\n",
            " [ 0.13432836  0.04477612 -0.07462687]]\n"
          ]
        }
      ]
    },
    {
      "cell_type": "code",
      "metadata": {
        "colab": {
          "base_uri": "https://localhost:8080/"
        },
        "id": "-dw09J4OftHy",
        "outputId": "57916e52-7004-4dd2-a0f9-909a01916d20"
      },
      "source": [
        "#Transpose matrix\n",
        "A = np.array ([[1,7,7], [2,-6,8], [3,9,4]])\n",
        "A_transpose = A.transpose()\n",
        "print (A_transpose)"
      ],
      "execution_count": 25,
      "outputs": [
        {
          "output_type": "stream",
          "name": "stdout",
          "text": [
            "[[ 1  2  3]\n",
            " [ 7 -6  9]\n",
            " [ 7  8  4]]\n"
          ]
        }
      ]
    }
  ]
}