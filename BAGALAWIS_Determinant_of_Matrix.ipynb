{
  "nbformat": 4,
  "nbformat_minor": 0,
  "metadata": {
    "colab": {
      "name": "BAGALAWIS_Determinant_of_Matrix.ipynb",
      "provenance": [],
      "authorship_tag": "ABX9TyMLREEq21CHFMkvQFOU1lgZ",
      "include_colab_link": true
    },
    "kernelspec": {
      "name": "python3",
      "display_name": "Python 3"
    },
    "language_info": {
      "name": "python"
    }
  },
  "cells": [
    {
      "cell_type": "markdown",
      "metadata": {
        "id": "view-in-github",
        "colab_type": "text"
      },
      "source": [
        "<a href=\"https://colab.research.google.com/github/KCalvin23/Linear-Algebra-58020/blob/main/BAGALAWIS_Determinant_of_Matrix.ipynb\" target=\"_parent\"><img src=\"https://colab.research.google.com/assets/colab-badge.svg\" alt=\"Open In Colab\"/></a>"
      ]
    },
    {
      "cell_type": "markdown",
      "metadata": {
        "id": "jbkHKQ7KhQmy"
      },
      "source": [
        "# Determinant of Matrix"
      ]
    },
    {
      "cell_type": "code",
      "metadata": {
        "id": "tidXMaUfhDvz"
      },
      "source": [
        "import numpy as np\n"
      ],
      "execution_count": 3,
      "outputs": []
    },
    {
      "cell_type": "code",
      "metadata": {
        "colab": {
          "base_uri": "https://localhost:8080/"
        },
        "id": "T1rQIqnSg-14",
        "outputId": "88cd5e23-7c61-4471-e154-ac8ad7e63fcc"
      },
      "source": [
        "a = np.array ([[1,2,-1],[4,6,-2],[-1,3,3]])\n",
        "\n",
        "print(round(np.linalg.det(a)))\n",
        "\n"
      ],
      "execution_count": 4,
      "outputs": [
        {
          "output_type": "stream",
          "name": "stdout",
          "text": [
            "-14\n"
          ]
        }
      ]
    }
  ]
}