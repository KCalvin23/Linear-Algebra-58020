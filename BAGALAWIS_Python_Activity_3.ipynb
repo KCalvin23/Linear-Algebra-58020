{
  "nbformat": 4,
  "nbformat_minor": 0,
  "metadata": {
    "colab": {
      "name": "BAGALAWIS_Python_Activity_3.ipynb",
      "provenance": [],
      "authorship_tag": "ABX9TyNbFfnYVw5rM21OGy3l1yy4",
      "include_colab_link": true
    },
    "kernelspec": {
      "name": "python3",
      "display_name": "Python 3"
    },
    "language_info": {
      "name": "python"
    }
  },
  "cells": [
    {
      "cell_type": "markdown",
      "metadata": {
        "id": "view-in-github",
        "colab_type": "text"
      },
      "source": [
        "<a href=\"https://colab.research.google.com/github/KCalvin23/Linear-Algebra-58020/blob/main/BAGALAWIS_Python_Activity_3.ipynb\" target=\"_parent\"><img src=\"https://colab.research.google.com/assets/colab-badge.svg\" alt=\"Open In Colab\"/></a>"
      ]
    },
    {
      "cell_type": "code",
      "metadata": {
        "id": "QgSCxjYQzG87"
      },
      "source": [
        "import numpy as np"
      ],
      "execution_count": 1,
      "outputs": []
    },
    {
      "cell_type": "code",
      "metadata": {
        "colab": {
          "base_uri": "https://localhost:8080/"
        },
        "id": "Sh2rhOslzvgm",
        "outputId": "3d8447dc-43f6-4bb0-8999-66674326b970"
      },
      "source": [
        "A = np.array([[1,1,1],[1,2,2],[1,2,3]])\n",
        "print (A)\n",
        "inv_A=np.linalg.inv(A)\n",
        "print(A)\n",
        "\n",
        "B = np.array ([[5,],[6],[8]])\n",
        "print(B)\n",
        "\n",
        "#XX^1z = .A^-1\n",
        "X = np.dot(inv_A,B)\n",
        "print(X)"
      ],
      "execution_count": 3,
      "outputs": [
        {
          "output_type": "stream",
          "name": "stdout",
          "text": [
            "[[1 1 1]\n",
            " [1 2 2]\n",
            " [1 2 3]]\n",
            "[[1 1 1]\n",
            " [1 2 2]\n",
            " [1 2 3]]\n",
            "[[5]\n",
            " [6]\n",
            " [8]]\n",
            "[[ 4.]\n",
            " [-1.]\n",
            " [ 2.]]\n"
          ]
        }
      ]
    }
  ]
}