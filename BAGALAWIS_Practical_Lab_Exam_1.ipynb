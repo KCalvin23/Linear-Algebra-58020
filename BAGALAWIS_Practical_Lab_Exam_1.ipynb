{
  "nbformat": 4,
  "nbformat_minor": 0,
  "metadata": {
    "colab": {
      "name": "BAGALAWIS_Practical Lab Exam 1.ipynb",
      "provenance": [],
      "authorship_tag": "ABX9TyN6n84A/hJaWp+lLlCLBJE3",
      "include_colab_link": true
    },
    "kernelspec": {
      "name": "python3",
      "display_name": "Python 3"
    },
    "language_info": {
      "name": "python"
    }
  },
  "cells": [
    {
      "cell_type": "markdown",
      "metadata": {
        "id": "view-in-github",
        "colab_type": "text"
      },
      "source": [
        "<a href=\"https://colab.research.google.com/github/KCalvin23/Linear-Algebra-58020/blob/main/BAGALAWIS_Practical_Lab_Exam_1.ipynb\" target=\"_parent\"><img src=\"https://colab.research.google.com/assets/colab-badge.svg\" alt=\"Open In Colab\"/></a>"
      ]
    },
    {
      "cell_type": "markdown",
      "metadata": {
        "id": "NMHsQblRSbcD"
      },
      "source": [
        "#**Practical Lab Exam 1**"
      ]
    },
    {
      "cell_type": "code",
      "metadata": {
        "id": "HzM2W8hMG5Y6"
      },
      "source": [
        "import numpy as np"
      ],
      "execution_count": 1,
      "outputs": []
    },
    {
      "cell_type": "markdown",
      "metadata": {
        "id": "hi2SF2HpMKoG"
      },
      "source": [
        "##PROBLEM 1\n"
      ]
    },
    {
      "cell_type": "code",
      "metadata": {
        "colab": {
          "base_uri": "https://localhost:8080/"
        },
        "id": "iyHA_82LJRT0",
        "outputId": "a839c31b-b276-4eff-9886-60e960972015"
      },
      "source": [
        "#A.)WY\n",
        "\n",
        "W = np.array([[1,-3],[2,-2],[3,1]])\n",
        "Y = np.array([[1,2,0],[0,-1,2]])\n",
        "result = np.dot(W,Y)\n",
        "print(result)"
      ],
      "execution_count": 22,
      "outputs": [
        {
          "output_type": "stream",
          "name": "stdout",
          "text": [
            "[[ 1  5 -6]\n",
            " [ 2  6 -4]\n",
            " [ 3  5  2]]\n"
          ]
        }
      ]
    },
    {
      "cell_type": "code",
      "metadata": {
        "colab": {
          "base_uri": "https://localhost:8080/"
        },
        "id": "TwXt922iG_YX",
        "outputId": "15a40d23-5033-43b5-b55c-3585d151952d"
      },
      "source": [
        "#B.)Z+Z\n",
        "\n",
        "Z = np.array([[0,1], [2,3]])\n",
        "print(Z+Z)"
      ],
      "execution_count": 23,
      "outputs": [
        {
          "output_type": "stream",
          "name": "stdout",
          "text": [
            "[[0 2]\n",
            " [4 6]]\n"
          ]
        }
      ]
    },
    {
      "cell_type": "code",
      "metadata": {
        "colab": {
          "base_uri": "https://localhost:8080/"
        },
        "id": "9ZFrRuaCHyZs",
        "outputId": "6cc1f5a3-bf19-4262-9201-ab2a2814e708"
      },
      "source": [
        "#C.)3X\n",
        "\n",
        "X = np.array([[3,2,1],[-1,2,3],[2,-1,1]])\n",
        "print(X*3)"
      ],
      "execution_count": 25,
      "outputs": [
        {
          "output_type": "stream",
          "name": "stdout",
          "text": [
            "[[ 9  6  3]\n",
            " [-3  6  9]\n",
            " [ 6 -3  3]]\n"
          ]
        }
      ]
    },
    {
      "cell_type": "markdown",
      "metadata": {
        "id": "uJNQm0ZxMOmU"
      },
      "source": [
        "##PROBLEM 2\n"
      ]
    },
    {
      "cell_type": "code",
      "metadata": {
        "colab": {
          "base_uri": "https://localhost:8080/"
        },
        "id": "wZWVxjDxM5WT",
        "outputId": "4e8ab061-cda8-4615-85f0-c019093e4f32"
      },
      "source": [
        "#A.)The product (YW)^2 is not defined\n",
        "\n",
        "\n",
        "W = np.array([[1,-3],[2,-2],[3,1]])\n",
        "Y = np.array([[1,2,0],[0,-1,2]])\n",
        "result = np.dot(Y,W)\n",
        "print(result*result)\n",
        "\n",
        "#the statement is false because it has a defined answer."
      ],
      "execution_count": 20,
      "outputs": [
        {
          "output_type": "stream",
          "name": "stdout",
          "text": [
            "[[25 49]\n",
            " [16 16]]\n"
          ]
        }
      ]
    },
    {
      "cell_type": "code",
      "metadata": {
        "colab": {
          "base_uri": "https://localhost:8080/"
        },
        "id": "uu7648KDMRUL",
        "outputId": "4e22fe9e-d4aa-4191-a0db-1b850c4ff66c"
      },
      "source": [
        "#B.)WY-X\n",
        "\n",
        "WY = np.array([[1,5,-6],[2,6,-4],[3,5,2]])\n",
        "X = np.array([[3,2,1],[-1,2,3],[2,-1,1]])\n",
        "print(WY-X)\n",
        "\n",
        "#the statement is true because the result is the same with the result shown on blackboard."
      ],
      "execution_count": 21,
      "outputs": [
        {
          "output_type": "stream",
          "name": "stdout",
          "text": [
            "[[-2  3 -7]\n",
            " [ 3  4 -7]\n",
            " [ 1  6  1]]\n"
          ]
        }
      ]
    },
    {
      "cell_type": "code",
      "metadata": {
        "colab": {
          "base_uri": "https://localhost:8080/"
        },
        "id": "DNYOHmGaNDk2",
        "outputId": "aadc63f0-88ad-4e6d-aefe-2dceb68d093d"
      },
      "source": [
        "#C.)YW-Z^2\n",
        "\n",
        "YW = np.array([[5,-7],[4,4]])\n",
        "Z = np.array([[0,1], [2,3]])\n",
        "print(YW-Z*Z)\n",
        "\n",
        "#the statement is false because it shows a different answer with the result shown on blackboard."
      ],
      "execution_count": 18,
      "outputs": [
        {
          "output_type": "stream",
          "name": "stdout",
          "text": [
            "[[ 5 -8]\n",
            " [ 0 -5]]\n"
          ]
        }
      ]
    }
  ]
}